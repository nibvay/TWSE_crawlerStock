{
 "cells": [
  {
   "cell_type": "code",
   "execution_count": null,
   "metadata": {},
   "outputs": [],
   "source": [
    "import requests\n",
    "from selenium import webdriver\n",
    "from bs4 import BeautifulSoup\n",
    "from selenium.webdriver.support.ui import Select\n",
    "from time import sleep\n",
    "import csv\n",
    "import numpy as np\n",
    "import time"
   ]
  },
  {
   "cell_type": "code",
   "execution_count": null,
   "metadata": {},
   "outputs": [],
   "source": [
    "chromedriver = ''  # your chromedriver's dir\n",
    "twseStock = 'http://www.twse.com.tw/zh/page/trading/exchange/STOCK_DAY_AVG.html'\n",
    "driver = webdriver.Chrome(chromedriver)\n",
    "driver.get(twseStock) # open twseStock website"
   ]
  },
  {
   "cell_type": "code",
   "execution_count": null,
   "metadata": {},
   "outputs": [],
   "source": [
    "selectStockList = driver.find_element_by_class_name('stock-code-browse')\n",
    "selectStockList.click()"
   ]
  },
  {
   "cell_type": "code",
   "execution_count": null,
   "metadata": {},
   "outputs": [],
   "source": [
    "driverSource = driver.page_source\n",
    "dataSource = BeautifulSoup(driverSource, 'lxml')"
   ]
  },
  {
   "cell_type": "code",
   "execution_count": null,
   "metadata": {},
   "outputs": [],
   "source": [
    "# 證券分類 stk\n",
    "stkDomain_str = dataSource.find('div', class_='category stk').find_all('a')\n",
    "stkDomain_arr = []\n",
    "for i in stkDomain_str:\n",
    "#     print(i.get_text())\n",
    "    stkDomain_arr.append(i.get_text())\n",
    "print(stkDomain_arr)"
   ]
  },
  {
   "cell_type": "code",
   "execution_count": null,
   "metadata": {},
   "outputs": [],
   "source": [
    "# targetDomain = stkDomain_arr[1]\n",
    "driver.find_element_by_link_text('化學工業').click()"
   ]
  },
  {
   "cell_type": "code",
   "execution_count": null,
   "metadata": {},
   "outputs": [],
   "source": [
    "driverSource = driver.page_source\n",
    "soup = BeautifulSoup(driverSource, 'lxml')"
   ]
  },
  {
   "cell_type": "code",
   "execution_count": null,
   "metadata": {},
   "outputs": [],
   "source": [
    "divAll = soup.find('div', class_='items').find_all('a')\n",
    "stockList =[]\n",
    "for i in divAll: \n",
    "    stockList.append(i.string) # 分類的基金清單\n",
    "print(stockList)"
   ]
  },
  {
   "cell_type": "code",
   "execution_count": null,
   "metadata": {},
   "outputs": [],
   "source": [
    "stockList = ['1730', '1723', '1724', '1713', '1711', '1727', '1704', '1721', '1708', '1725']\n",
    "thisTimeStock = stockList[0] # choose your target index"
   ]
  },
  {
   "cell_type": "code",
   "execution_count": null,
   "metadata": {
    "scrolled": true
   },
   "outputs": [],
   "source": [
    "for stock in stockList:\n",
    "    stockPriceList =[]\n",
    "    \n",
    "    # 先點回到首頁http://www.twse.com.tw/zh/page/trading/exchange/STOCK_DAY_AVG.html\n",
    "    for year in range(2017, 2018):\n",
    "        # 填年\n",
    "        selectYear = Select(driver.find_element_by_name('yy'))\n",
    "        selectYear.select_by_value(str(year))\n",
    "        \n",
    "        for month in range(1, 13):\n",
    "            # 填月\n",
    "            selectMonth = Select(driver.find_element_by_name('mm'))\n",
    "            selectMonth.select_by_value(str(month))\n",
    "\n",
    "            # 填股票代碼\n",
    "            driver.find_element_by_name('stockNo').clear()\n",
    "            driver.find_element_by_name('stockNo').send_keys(stock)\n",
    "            driver.find_element_by_css_selector('.button.search').click()\n",
    "            \n",
    "            time.sleep(5) # wait\n",
    "            \n",
    "            driverSource = driver.page_source\n",
    "            stockSoup = BeautifulSoup(driverSource, 'lxml')\n",
    "            try:\n",
    "                stock_Date_Close = stockSoup.find(id='report-table').find('tbody').find_all('td')\n",
    "                for i in stock_Date_Close:\n",
    "                    print(i.get_text())\n",
    "                    \n",
    "                    tmp = i.get_text()\n",
    "                    stockPriceList.append(tmp)\n",
    "            except:\n",
    "                print('No data')"
   ]
  },
  {
   "cell_type": "code",
   "execution_count": null,
   "metadata": {},
   "outputs": [],
   "source": [
    "# show month avg closed\n",
    "avgClosed = []\n",
    "for i in range(0, len(stockPriceList)):\n",
    "    if stockPriceList[i] == '月平均收盤價':\n",
    "        avgClosed.append(stockPriceList[i+1])\n",
    "        print(stockPriceList[i+1])\n",
    "# print(avgClosed)"
   ]
  },
  {
   "cell_type": "code",
   "execution_count": null,
   "metadata": {},
   "outputs": [],
   "source": [
    "# change to dict\n",
    "stockPriceList_dict = {} \n",
    "for i in range(0, len(stockPriceList), 2):\n",
    "    stockPriceList_dict[stockPriceList[i]] = stockPriceList[i+1]\n",
    "\n",
    "# save to csv file\n",
    "fileName = '/' + stock + '.csv' # your file name\n",
    "pathProg = '' # save csv file at where\n",
    "\n",
    "with open(pathProg + fileName, 'w') as csv:\n",
    "    columnTitleRow = \"date, closedPrice\\n\"\n",
    "    csv.write(columnTitleRow)\n",
    "\n",
    "    for key in stockPriceList_dict.keys():\n",
    "        date = key\n",
    "        closedPrice = stockPriceList_dict[key]\n",
    "        row = date + \",\" + closedPrice + \"\\n\"\n",
    "        csv.write(row)"
   ]
  },
  {
   "cell_type": "code",
   "execution_count": null,
   "metadata": {},
   "outputs": [],
   "source": []
  },
  {
   "cell_type": "code",
   "execution_count": null,
   "metadata": {},
   "outputs": [],
   "source": []
  }
 ],
 "metadata": {
  "kernelspec": {
   "display_name": "Python 3",
   "language": "python",
   "name": "python3"
  },
  "language_info": {
   "codemirror_mode": {
    "name": "ipython",
    "version": 3
   },
   "file_extension": ".py",
   "mimetype": "text/x-python",
   "name": "python",
   "nbconvert_exporter": "python",
   "pygments_lexer": "ipython3",
   "version": "3.6.5"
  }
 },
 "nbformat": 4,
 "nbformat_minor": 2
}
